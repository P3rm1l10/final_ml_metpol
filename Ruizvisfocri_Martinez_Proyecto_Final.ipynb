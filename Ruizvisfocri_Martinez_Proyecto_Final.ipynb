{
 "cells": [
  {
   "attachments": {},
   "cell_type": "markdown",
   "id": "c9d1fc53-d94b-4499-817d-babbcb01e6b1",
   "metadata": {},
   "source": [
    "# Proyecto final Machine Learning"
   ]
  },
  {
   "attachments": {},
   "cell_type": "markdown",
   "id": "8bc6795c-ca8c-440d-bfeb-9b7607685711",
   "metadata": {},
   "source": [
    "Jorge Ruizvisfocri\n",
    "\n",
    "Emilio Martinez"
   ]
  },
  {
   "attachments": {},
   "cell_type": "markdown",
   "id": "083a7f13-99cc-46fe-a2cb-7f7bafe43117",
   "metadata": {},
   "source": [
    "# Descripción del proyecto"
   ]
  },
  {
   "attachments": {},
   "cell_type": "markdown",
   "id": "4d469410-9a0e-4207-9278-5fe08489dffe",
   "metadata": {},
   "source": [
    "El siguiente proyecto busca clasificar imágenes de Carcinomas Ductales Invasivos (IDC en inglés) extraidas de muestras de pacientes con cancer de mama.\n",
    "\n",
    "La base de datos fue tomada de https://www.kaggle.com/datasets/paultimothymooney/breast-histopathology-images\n",
    "\n",
    "Se propone utilizar una red neuronal convolucional para resolver el problema de clasificación."
   ]
  },
  {
   "attachments": {},
   "cell_type": "markdown",
   "id": "61434f9f-74a5-4dc9-ad23-b654c5949587",
   "metadata": {},
   "source": [
    "# Paqueterías de trabajo"
   ]
  },
  {
   "cell_type": "code",
   "execution_count": 28,
   "id": "5c300dce-540b-42bd-a5b5-b8a14977d2c3",
   "metadata": {},
   "outputs": [],
   "source": [
    "## Paquetes de ciencias de datos\n",
    "import pandas as pd\n",
    "import numpy as np\n",
    "from tensorflow import keras\n",
    "from tensorflow.keras import models\n",
    "from tensorflow.keras import layers\n",
    "from tensorflow.keras.optimizers import Adam\n",
    "import matplotlib.pyplot as plt\n",
    "from sklearn.metrics import classification_report\n",
    "from tensorflow.keras.utils import to_categorical\n",
    "import math\n",
    "import random\n",
    "\n",
    "## Paquetes de lectura de imagenes\n",
    "from pathlib import Path\n",
    "import os\n",
    "import glob\n",
    "\n",
    "## Paquetes de imágenes\n",
    "from PIL import Image\n",
    "import cv2\n",
    "\n",
    "##Otros\n",
    "from tqdm import tqdm\n",
    "from sklearn.model_selection import train_test_split"
   ]
  },
  {
   "attachments": {},
   "cell_type": "markdown",
   "id": "7d47ff47-7aa4-469d-9694-113bfeac7d62",
   "metadata": {},
   "source": [
    "# Datos de trabajo"
   ]
  },
  {
   "cell_type": "code",
   "execution_count": 30,
   "id": "f74b69f5-85ae-4e92-8d98-1da5c635cbe2",
   "metadata": {},
   "outputs": [],
   "source": [
    "# Directorio de imágenes\n",
    "data_dir = Path(\"C:/Users/permi/OneDrive - CIDE/CIDE/4to semestre/ML/imagenes/IDC_regular_ps50_idx5\") ## Directorio de datos"
   ]
  },
  {
   "attachments": {},
   "cell_type": "markdown",
   "id": "0f1eb82a-b910-47a6-a3d1-fcc431b716e2",
   "metadata": {},
   "source": [
    "Dado que todos los pacientes tienen muestras con tumores malignos y benignos, la aleatorización puede realizarse a nivel de imagen o a nivel de paciente.\n",
    "\n",
    "Bajo el supuesto de que podría existir correlación de algún tipo entre las imágenes pertenecientes a un mismo paciente, creemos que sería interesante aleatorizar a nivel de paciente, para introducirle a la red la información de personas que jamás ha visto."
   ]
  },
  {
   "cell_type": "code",
   "execution_count": 31,
   "id": "79ba3705-8755-4f5a-a53d-dfc487503281",
   "metadata": {},
   "outputs": [],
   "source": [
    "### Aleatorización a nivel de paciente\n",
    "#### Obtenemos la lista de pacientes\n",
    "px = [f for f in data_dir.iterdir() if f.is_dir()]"
   ]
  },
  {
   "cell_type": "code",
   "execution_count": 32,
   "id": "73c287e8-2951-4e57-afce-25b89086617a",
   "metadata": {},
   "outputs": [],
   "source": [
    "### Obtenemos el número equivalente al porcentaje deseado\n",
    "k = math.ceil( len(px) * 80 // 100)"
   ]
  },
  {
   "cell_type": "code",
   "execution_count": null,
   "id": "db14f1fd-217c-4779-a803-1bef7cc3b9f9",
   "metadata": {},
   "outputs": [],
   "source": [
    "### Hacemos la muestra de pacientes para entrenamiento y prueba"
   ]
  },
  {
   "cell_type": "code",
   "execution_count": 33,
   "id": "1d71ef82-8a3e-47b5-a8b3-6b45e7bda23f",
   "metadata": {},
   "outputs": [],
   "source": [
    "### fijamos la semilla para tener reproductibilidad\n",
    "random.seed(4352)"
   ]
  },
  {
   "cell_type": "code",
   "execution_count": 34,
   "id": "9b8cba47-2ad2-476a-b6d4-ed92d1e40714",
   "metadata": {},
   "outputs": [],
   "source": [
    "train_id = random.sample(px,k)"
   ]
  },
  {
   "cell_type": "code",
   "execution_count": 35,
   "id": "f427d55e-c414-4879-8be7-0176db51250e",
   "metadata": {},
   "outputs": [],
   "source": [
    "test_id = set(px) - set(train_id)"
   ]
  },
  {
   "cell_type": "code",
   "execution_count": 36,
   "id": "30e5ae93-7109-43b4-b1e3-414fc2a62555",
   "metadata": {},
   "outputs": [],
   "source": [
    "### Limpieza\n",
    "del data_dir\n",
    "del px\n",
    "del k"
   ]
  },
  {
   "cell_type": "code",
   "execution_count": 37,
   "id": "f3c6dd66-db7a-4b6d-9677-8c4f98bf6603",
   "metadata": {},
   "outputs": [
    {
     "name": "stderr",
     "output_type": "stream",
     "text": [
      "100%|██████████| 223/223 [00:02<00:00, 83.15it/s] \n"
     ]
    }
   ],
   "source": [
    "### cargamos files de entrenamiento\n",
    "train_images_files = []\n",
    "for p in tqdm(train_id):\n",
    "    img_lst = list(p.rglob(\"*.png\"))\n",
    "    train_images_files.extend(img_lst)"
   ]
  },
  {
   "cell_type": "code",
   "execution_count": 38,
   "id": "b54b8fb0-5222-4e3a-85f4-b6629b21cbae",
   "metadata": {},
   "outputs": [
    {
     "name": "stderr",
     "output_type": "stream",
     "text": [
      "100%|██████████| 56/56 [00:00<00:00, 78.60it/s]\n"
     ]
    }
   ],
   "source": [
    "test_images_files = []\n",
    "for p in tqdm(test_id):\n",
    "    img_lst = list(p.rglob(\"*.png\"))\n",
    "    test_images_files.extend(img_lst)"
   ]
  },
  {
   "cell_type": "code",
   "execution_count": 39,
   "id": "d2694b47-372e-4572-a031-7ce7f90cc5e8",
   "metadata": {},
   "outputs": [
    {
     "name": "stdout",
     "output_type": "stream",
     "text": [
      "Número de imagenes\n",
      "-----------------\n",
      "Total: 277524\n",
      "-----------------\n",
      "Entrenamiento: 220389\n",
      "-----------------\n",
      "Prueba: 57135\n",
      "\n"
     ]
    }
   ],
   "source": [
    "### Revisamos que las direcciones de las imágenes estén bien cargadas\n",
    "print(\n",
    "    f\"Número de imagenes\\n\"\n",
    "    \"-----------------\\n\"\n",
    "    f\"Total: {len(train_images_files) + len(test_images_files) }\\n\"  # 277,524 tiles\n",
    "    \"-----------------\\n\"\n",
    "    f\"Entrenamiento: {len(train_images_files) }\\n\"\n",
    "    \"-----------------\\n\"\n",
    "    f\"Prueba: {len(test_images_files) }\\n\"\n",
    ")"
   ]
  },
  {
   "cell_type": "code",
   "execution_count": 40,
   "id": "974df814-489d-45e7-8008-511351b9273d",
   "metadata": {},
   "outputs": [],
   "source": [
    "### Lipieza\n",
    "del train_id\n",
    "del test_id"
   ]
  },
  {
   "attachments": {},
   "cell_type": "markdown",
   "id": "6984508a-0785-4ac4-bdfb-32a840c306f9",
   "metadata": {},
   "source": [
    "## Preparamos las etiquetas"
   ]
  },
  {
   "cell_type": "code",
   "execution_count": 41,
   "id": "0131a0b1-a854-49d1-9fe2-0327ddb64e6c",
   "metadata": {},
   "outputs": [
    {
     "name": "stderr",
     "output_type": "stream",
     "text": [
      "100%|██████████| 220389/220389 [00:00<00:00, 722156.01it/s]\n"
     ]
    }
   ],
   "source": [
    "## y_entrenamiento\n",
    "### Preparamos las etiquetas\n",
    "y_train = []\n",
    "for name in tqdm(train_images_files):\n",
    "    etiqueta = str(name)[-5]\n",
    "    etiqueta_num = int(etiqueta)\n",
    "    y_train.append(etiqueta_num)"
   ]
  },
  {
   "cell_type": "code",
   "execution_count": 74,
   "id": "ad8d1d57",
   "metadata": {},
   "outputs": [],
   "source": [
    "y_train_array = np.asarray(y_train,dtype=object)"
   ]
  },
  {
   "cell_type": "code",
   "execution_count": 42,
   "id": "62fb3993-3c47-479d-afe9-18b5f9fafd97",
   "metadata": {},
   "outputs": [
    {
     "name": "stderr",
     "output_type": "stream",
     "text": [
      "100%|██████████| 57135/57135 [00:00<00:00, 712254.41it/s]\n"
     ]
    }
   ],
   "source": [
    "y_test = []\n",
    "for name in tqdm(test_images_files):\n",
    "    etiqueta = str(name)[-5]\n",
    "    etiqueta_num = int(etiqueta)\n",
    "    y_test.append(etiqueta_num)"
   ]
  },
  {
   "cell_type": "code",
   "execution_count": 75,
   "id": "c1b1b0bc",
   "metadata": {},
   "outputs": [],
   "source": [
    "y_test_array = np.asarray(y_test,dtype=object)"
   ]
  },
  {
   "cell_type": "code",
   "execution_count": 43,
   "id": "1e591360-3f86-4746-a5a3-fea82514f6a3",
   "metadata": {},
   "outputs": [
    {
     "name": "stdout",
     "output_type": "stream",
     "text": [
      "Positivos totales\n",
      "-----------------\n",
      "Total: 78786\n",
      "-----------------\n",
      "Entrenamiento: 64466\n",
      "-----------------\n",
      "Prueba: 14320\n",
      "------------------------\n",
      "Positivos porcentajes\n",
      "-----------------\n",
      "Total: 0.28\n",
      "-----------------\n",
      "Entrenamiento: 0.29\n",
      "-----------------\n",
      "Prueba: 0.25\n",
      "\n"
     ]
    }
   ],
   "source": [
    "### Revisamos números de positivos en conjuntos\n",
    "print(\n",
    "    f\"Positivos totales\\n\"\n",
    "    \"-----------------\\n\"\n",
    "    f\"Total: {sum(y_train) + sum(y_test)}\\n\"  # 277,524 tiles\n",
    "    \"-----------------\\n\"\n",
    "    f\"Entrenamiento: {sum(y_train) }\\n\"\n",
    "    \"-----------------\\n\"\n",
    "    f\"Prueba: {sum(y_test) }\\n\"\n",
    "     \"------------------------\\n\"\n",
    "    f\"Positivos porcentajes\\n\"\n",
    "    \"-----------------\\n\"\n",
    "    f\"Total: { round((sum(y_train) + sum(y_test))/ (len(y_train) + len(y_test)),2)  }\\n\"  # 277,524 tiles\n",
    "    \"-----------------\\n\"\n",
    "    f\"Entrenamiento: {round(sum(y_train)/ len(y_train),2) }\\n\"\n",
    "    \"-----------------\\n\"\n",
    "    f\"Prueba: {round(sum(y_test)/ len(y_test),2) }\\n\"\n",
    ")"
   ]
  },
  {
   "attachments": {},
   "cell_type": "markdown",
   "id": "47ad4ddc-7776-4967-aa20-fbda4c4dc086",
   "metadata": {},
   "source": [
    "## Preparamos las imágenes"
   ]
  },
  {
   "cell_type": "code",
   "execution_count": 44,
   "id": "f9a2a76d-cb9e-4273-a41d-af319d80aaeb",
   "metadata": {},
   "outputs": [
    {
     "name": "stderr",
     "output_type": "stream",
     "text": [
      "100%|██████████| 220389/220389 [02:16<00:00, 1610.94it/s]\n"
     ]
    }
   ],
   "source": [
    "### Cargamos de imágenes de entrenamiento en una lista\n",
    "dataset_img_train = list()\n",
    "for img in tqdm(train_images_files):\n",
    "    image = Image.open(img)\n",
    "    image=image.resize((50,50))\n",
    "    numpydata = np.asarray(image)\n",
    "    dataset_img_train.append(numpydata)"
   ]
  },
  {
   "cell_type": "code",
   "execution_count": 45,
   "id": "5b904e1d-7db3-4128-9591-91ca300d3ccf",
   "metadata": {},
   "outputs": [],
   "source": [
    "### Convertimos la lista en tensor\n",
    "dataset_img_train_array = np.asarray(dataset_img_train,dtype=object)"
   ]
  },
  {
   "cell_type": "code",
   "execution_count": 46,
   "id": "7a623001-476b-4ac7-aaf3-91ac84c02f2a",
   "metadata": {},
   "outputs": [],
   "source": [
    "### Limpieza\n",
    "del train_images_files\n",
    "del etiqueta\n",
    "del etiqueta_num\n",
    "del dataset_img_train\n",
    "del numpydata"
   ]
  },
  {
   "cell_type": "code",
   "execution_count": 47,
   "id": "9f048e06-3c7a-4a70-a61f-2cba1a4062cc",
   "metadata": {},
   "outputs": [
    {
     "data": {
      "text/plain": [
       "(220389, 50, 50, 3)"
      ]
     },
     "execution_count": 47,
     "metadata": {},
     "output_type": "execute_result"
    }
   ],
   "source": [
    "dataset_img_train_array.shape ## Debe darnos un vector de tamaño (n,a,b,c)"
   ]
  },
  {
   "cell_type": "code",
   "execution_count": 48,
   "id": "c7312763-143b-4757-b6e6-323ff19bafaf",
   "metadata": {},
   "outputs": [],
   "source": [
    "### Aplanamos los datos\n",
    "dataset_img_train_array_plana = dataset_img_train_array.astype('float32') / 255"
   ]
  },
  {
   "cell_type": "code",
   "execution_count": 49,
   "id": "952ba1a2-1741-402a-bc4d-14bff7115a11",
   "metadata": {},
   "outputs": [
    {
     "data": {
      "text/plain": [
       "array([[[[0.89411765, 0.63529414, 0.7411765 ],\n",
       "         [0.8627451 , 0.5921569 , 0.7058824 ],\n",
       "         [0.8901961 , 0.5764706 , 0.7058824 ],\n",
       "         ...,\n",
       "         [0.9254902 , 0.8       , 0.85882354],\n",
       "         [0.92156863, 0.7647059 , 0.83137256],\n",
       "         [0.9019608 , 0.7372549 , 0.80784315]],\n",
       "\n",
       "        [[0.8509804 , 0.56078434, 0.68235296],\n",
       "         [0.8392157 , 0.5137255 , 0.6627451 ],\n",
       "         [0.8156863 , 0.48235294, 0.6117647 ],\n",
       "         ...,\n",
       "         [0.9490196 , 0.9019608 , 0.91764706],\n",
       "         [0.9411765 , 0.8862745 , 0.9137255 ],\n",
       "         [0.9019608 , 0.7137255 , 0.8039216 ]],\n",
       "\n",
       "        [[0.89411765, 0.6431373 , 0.7529412 ],\n",
       "         [0.88235295, 0.62352943, 0.7137255 ],\n",
       "         [0.88235295, 0.5764706 , 0.7176471 ],\n",
       "         ...,\n",
       "         [0.8862745 , 0.654902  , 0.7529412 ],\n",
       "         [0.9254902 , 0.7647059 , 0.84705883],\n",
       "         [0.9254902 , 0.79607844, 0.8392157 ]],\n",
       "\n",
       "        ...,\n",
       "\n",
       "        [[0.92156863, 0.7921569 , 0.85490197],\n",
       "         [0.9254902 , 0.8039216 , 0.84705883],\n",
       "         [0.9137255 , 0.7647059 , 0.8352941 ],\n",
       "         ...,\n",
       "         [0.88235295, 0.62352943, 0.7254902 ],\n",
       "         [0.8156863 , 0.42352942, 0.5647059 ],\n",
       "         [0.8509804 , 0.49411765, 0.6313726 ]],\n",
       "\n",
       "        [[0.9098039 , 0.7019608 , 0.78039217],\n",
       "         [0.92156863, 0.81960785, 0.8666667 ],\n",
       "         [0.9098039 , 0.7490196 , 0.827451  ],\n",
       "         ...,\n",
       "         [0.8666667 , 0.5803922 , 0.70980394],\n",
       "         [0.84313726, 0.49411765, 0.6313726 ],\n",
       "         [0.8980392 , 0.63529414, 0.73333335]],\n",
       "\n",
       "        [[0.9019608 , 0.7294118 , 0.80784315],\n",
       "         [0.9411765 , 0.88235295, 0.90588236],\n",
       "         [0.94509804, 0.84705883, 0.8862745 ],\n",
       "         ...,\n",
       "         [0.8901961 , 0.64705884, 0.74509805],\n",
       "         [0.88235295, 0.6156863 , 0.7176471 ],\n",
       "         [0.9019608 , 0.6862745 , 0.77254903]]],\n",
       "\n",
       "\n",
       "       [[[0.9490196 , 0.93333334, 0.9411765 ],\n",
       "         [0.9490196 , 0.93333334, 0.9411765 ],\n",
       "         [0.9490196 , 0.93333334, 0.9411765 ],\n",
       "         ...,\n",
       "         [0.9529412 , 0.93333334, 0.9411765 ],\n",
       "         [0.9490196 , 0.9372549 , 0.94509804],\n",
       "         [0.9490196 , 0.9372549 , 0.94509804]],\n",
       "\n",
       "        [[0.9490196 , 0.93333334, 0.9411765 ],\n",
       "         [0.9490196 , 0.93333334, 0.9411765 ],\n",
       "         [0.9490196 , 0.93333334, 0.9411765 ],\n",
       "         ...,\n",
       "         [0.94509804, 0.9411765 , 0.9490196 ],\n",
       "         [0.94509804, 0.93333334, 0.9411765 ],\n",
       "         [0.9490196 , 0.93333334, 0.94509804]],\n",
       "\n",
       "        [[0.9490196 , 0.93333334, 0.9411765 ],\n",
       "         [0.9490196 , 0.93333334, 0.9411765 ],\n",
       "         [0.9490196 , 0.93333334, 0.9411765 ],\n",
       "         ...,\n",
       "         [0.94509804, 0.9372549 , 0.9411765 ],\n",
       "         [0.9490196 , 0.93333334, 0.9411765 ],\n",
       "         [0.9490196 , 0.93333334, 0.9411765 ]],\n",
       "\n",
       "        ...,\n",
       "\n",
       "        [[0.8117647 , 0.5254902 , 0.6627451 ],\n",
       "         [0.7176471 , 0.44313726, 0.6156863 ],\n",
       "         [0.8666667 , 0.5882353 , 0.7176471 ],\n",
       "         ...,\n",
       "         [0.85490197, 0.52156866, 0.654902  ],\n",
       "         [0.8745098 , 0.53333336, 0.67058825],\n",
       "         [0.8745098 , 0.5686275 , 0.7058824 ]],\n",
       "\n",
       "        [[0.8666667 , 0.53333336, 0.67058825],\n",
       "         [0.8156863 , 0.5686275 , 0.68235296],\n",
       "         [0.84313726, 0.6039216 , 0.7176471 ],\n",
       "         ...,\n",
       "         [0.85882354, 0.5921569 , 0.7176471 ],\n",
       "         [0.8666667 , 0.56078434, 0.6784314 ],\n",
       "         [0.8901961 , 0.58431375, 0.6862745 ]],\n",
       "\n",
       "        [[0.8862745 , 0.50980395, 0.64705884],\n",
       "         [0.8862745 , 0.5254902 , 0.654902  ],\n",
       "         [0.8784314 , 0.49803922, 0.64705884],\n",
       "         ...,\n",
       "         [0.8666667 , 0.6392157 , 0.7411765 ],\n",
       "         [0.8666667 , 0.5568628 , 0.68235296],\n",
       "         [0.85490197, 0.5058824 , 0.6627451 ]]],\n",
       "\n",
       "\n",
       "       [[[0.93333334, 0.81960785, 0.8666667 ],\n",
       "         [0.94509804, 0.8901961 , 0.9254902 ],\n",
       "         [0.94509804, 0.92941177, 0.93333334],\n",
       "         ...,\n",
       "         [0.9019608 , 0.68235296, 0.76862746],\n",
       "         [0.9098039 , 0.7058824 , 0.79607844],\n",
       "         [0.8666667 , 0.5764706 , 0.69411767]],\n",
       "\n",
       "        [[0.8980392 , 0.7411765 , 0.8235294 ],\n",
       "         [0.9490196 , 0.8980392 , 0.8980392 ],\n",
       "         [0.94509804, 0.9098039 , 0.93333334],\n",
       "         ...,\n",
       "         [0.9137255 , 0.73333335, 0.8117647 ],\n",
       "         [0.8862745 , 0.59607846, 0.7019608 ],\n",
       "         [0.8862745 , 0.6313726 , 0.7411765 ]],\n",
       "\n",
       "        [[0.8901961 , 0.654902  , 0.7529412 ],\n",
       "         [0.92941177, 0.80784315, 0.8627451 ],\n",
       "         [0.8901961 , 0.7764706 , 0.827451  ],\n",
       "         ...,\n",
       "         [0.8980392 , 0.6313726 , 0.7411765 ],\n",
       "         [0.87058824, 0.6039216 , 0.72156864],\n",
       "         [0.92156863, 0.6784314 , 0.7647059 ]],\n",
       "\n",
       "        ...,\n",
       "\n",
       "        [[0.84705883, 0.5137255 , 0.654902  ],\n",
       "         [0.8627451 , 0.5803922 , 0.69803923],\n",
       "         [0.89411765, 0.6392157 , 0.7411765 ],\n",
       "         ...,\n",
       "         [0.88235295, 0.54509807, 0.6666667 ],\n",
       "         [0.8745098 , 0.49019608, 0.64705884],\n",
       "         [0.8509804 , 0.46666667, 0.59607846]],\n",
       "\n",
       "        [[0.8666667 , 0.57254905, 0.6862745 ],\n",
       "         [0.92156863, 0.7254902 , 0.79607844],\n",
       "         [0.8862745 , 0.6039216 , 0.7254902 ],\n",
       "         ...,\n",
       "         [0.87058824, 0.57254905, 0.69411767],\n",
       "         [0.87058824, 0.54901963, 0.6666667 ],\n",
       "         [0.8745098 , 0.54509807, 0.6745098 ]],\n",
       "\n",
       "        [[0.8745098 , 0.6156863 , 0.7372549 ],\n",
       "         [0.8980392 , 0.627451  , 0.7294118 ],\n",
       "         [0.8745098 , 0.56078434, 0.6784314 ],\n",
       "         ...,\n",
       "         [0.9019608 , 0.6156863 , 0.73333335],\n",
       "         [0.89411765, 0.6       , 0.70980394],\n",
       "         [0.85882354, 0.50980395, 0.6666667 ]]]], dtype=float32)"
      ]
     },
     "execution_count": 49,
     "metadata": {},
     "output_type": "execute_result"
    }
   ],
   "source": [
    "dataset_img_train_array_plana[0:3] ## Vemos las primeras entradas para verificar que estén aplanados los datos"
   ]
  },
  {
   "cell_type": "code",
   "execution_count": 50,
   "id": "8cfcf63e-38b9-4fa3-b7ff-6b8cd0b4e398",
   "metadata": {},
   "outputs": [],
   "source": [
    "del dataset_img_train_array"
   ]
  },
  {
   "cell_type": "code",
   "execution_count": 51,
   "id": "541a7e20-af82-4b97-9409-21b1870cab2e",
   "metadata": {},
   "outputs": [
    {
     "name": "stdout",
     "output_type": "stream",
     "text": [
      "El tamaño del vector de resultados y de las imágenes es el mismo en el conjunto de entrenamiento\n"
     ]
    }
   ],
   "source": [
    "## Revisamos que tengan la misma longitud para el conjunto de entrenamiento\n",
    "leny_train = len(y_train)\n",
    "lenset_train = len(dataset_img_train_array_plana)\n",
    "\n",
    "if leny_train == lenset_train:\n",
    "    print(\"El tamaño del vector de resultados y de las imágenes es el mismo en el conjunto de entrenamiento\")\n",
    "else:\n",
    "    print(\"El tamaño del vector de resultados y las imágenes no coincide en el conjunto de entrenamiento\")"
   ]
  },
  {
   "cell_type": "code",
   "execution_count": 52,
   "id": "a0552aa7-d034-4294-9279-08917ab2773a",
   "metadata": {},
   "outputs": [
    {
     "name": "stderr",
     "output_type": "stream",
     "text": [
      "100%|██████████| 57135/57135 [00:37<00:00, 1538.23it/s]\n"
     ]
    }
   ],
   "source": [
    "### Cargamos imágenes de prueba en una lista\n",
    "dataset_img_test = list()\n",
    "for img in tqdm(test_images_files):\n",
    "    image = Image.open(img)\n",
    "    image=image.resize((50,50))\n",
    "    numpydata = np.asarray(image)\n",
    "    numpydata_plana = numpydata.astype('float32') / 255\n",
    "    dataset_img_test.append(numpydata_plana)"
   ]
  },
  {
   "cell_type": "code",
   "execution_count": 53,
   "id": "94ba325e-5dee-43f4-bc15-423b7f3c47ba",
   "metadata": {},
   "outputs": [],
   "source": [
    "### Convertimos la lista en tensor\n",
    "dataset_img_test_array = np.asarray(dataset_img_test,dtype=object)"
   ]
  },
  {
   "cell_type": "code",
   "execution_count": 54,
   "id": "2ec7ca55-d16b-45e9-857a-f5644750dc03",
   "metadata": {},
   "outputs": [],
   "source": [
    "### Limpieza\n",
    "del test_images_files\n",
    "del dataset_img_test\n",
    "del image\n",
    "del numpydata\n",
    "del numpydata_plana"
   ]
  },
  {
   "cell_type": "code",
   "execution_count": 55,
   "id": "ef3e5b8d-b3fc-4d19-96b9-0c5c4e94f467",
   "metadata": {},
   "outputs": [
    {
     "data": {
      "text/plain": [
       "(57135, 50, 50, 3)"
      ]
     },
     "execution_count": 55,
     "metadata": {},
     "output_type": "execute_result"
    }
   ],
   "source": [
    "dataset_img_test_array.shape ## Debe darnos un vector de tamaño (n,a,b,c)"
   ]
  },
  {
   "cell_type": "code",
   "execution_count": 56,
   "id": "8491802a-e820-4323-9424-8b4908043578",
   "metadata": {},
   "outputs": [],
   "source": [
    "### Aplanamos los datos\n",
    "dataset_img_test_array_plana = dataset_img_test_array.astype('float32') / 255"
   ]
  },
  {
   "cell_type": "code",
   "execution_count": 57,
   "id": "f9bfa9b8-4946-45a2-99a4-60f0eee41d3b",
   "metadata": {},
   "outputs": [
    {
     "data": {
      "text/plain": [
       "array([[[[0.00350634, 0.00330642, 0.00344483],\n",
       "         [0.00366013, 0.0035371 , 0.00358324],\n",
       "         [0.00372165, 0.00370627, 0.00370627],\n",
       "         ...,\n",
       "         [0.00367551, 0.00358324, 0.00367551],\n",
       "         [0.00376778, 0.00370627, 0.00370627],\n",
       "         [0.00370627, 0.00372165, 0.00381392]],\n",
       "\n",
       "        [[0.0035371 , 0.00322953, 0.00339869],\n",
       "         [0.00372165, 0.00362937, 0.00367551],\n",
       "         [0.00372165, 0.00372165, 0.00372165],\n",
       "         ...,\n",
       "         [0.0037524 , 0.00369089, 0.00370627],\n",
       "         [0.00370627, 0.00364475, 0.00372165],\n",
       "         [0.00372165, 0.00361399, 0.00361399]],\n",
       "\n",
       "        [[0.00362937, 0.00342945, 0.00350634],\n",
       "         [0.00369089, 0.00358324, 0.00369089],\n",
       "         [0.00372165, 0.00372165, 0.00369089],\n",
       "         ...,\n",
       "         [0.00362937, 0.00335256, 0.00355248],\n",
       "         [0.00352172, 0.00324491, 0.00339869],\n",
       "         [0.00372165, 0.00355248, 0.00364475]],\n",
       "\n",
       "        ...,\n",
       "\n",
       "        [[0.00372165, 0.00366013, 0.00370627],\n",
       "         [0.00370627, 0.00367551, 0.00370627],\n",
       "         [0.00372165, 0.00367551, 0.00370627],\n",
       "         ...,\n",
       "         [0.00370627, 0.00372165, 0.00373702],\n",
       "         [0.00372165, 0.00370627, 0.00370627],\n",
       "         [0.00372165, 0.00369089, 0.00370627]],\n",
       "\n",
       "        [[0.00372165, 0.00369089, 0.00370627],\n",
       "         [0.00370627, 0.00372165, 0.00372165],\n",
       "         [0.00369089, 0.00372165, 0.00369089],\n",
       "         ...,\n",
       "         [0.00369089, 0.00362937, 0.00366013],\n",
       "         [0.00373702, 0.00369089, 0.00370627],\n",
       "         [0.00372165, 0.00369089, 0.00370627]],\n",
       "\n",
       "        [[0.00372165, 0.00369089, 0.00370627],\n",
       "         [0.00369089, 0.00369089, 0.00369089],\n",
       "         [0.00369089, 0.00367551, 0.00369089],\n",
       "         ...,\n",
       "         [0.00372165, 0.00352172, 0.00361399],\n",
       "         [0.00373702, 0.00369089, 0.00373702],\n",
       "         [0.00373702, 0.00369089, 0.00372165]]],\n",
       "\n",
       "\n",
       "       [[[0.00372165, 0.00370627, 0.00369089],\n",
       "         [0.00370627, 0.00367551, 0.00369089],\n",
       "         [0.00370627, 0.00367551, 0.00369089],\n",
       "         ...,\n",
       "         [0.00366013, 0.00352172, 0.00361399],\n",
       "         [0.00373702, 0.00369089, 0.00373702],\n",
       "         [0.00372165, 0.00367551, 0.00370627]],\n",
       "\n",
       "        [[0.00369089, 0.00366013, 0.00369089],\n",
       "         [0.00370627, 0.00367551, 0.00369089],\n",
       "         [0.00369089, 0.00370627, 0.00370627],\n",
       "         ...,\n",
       "         [0.00373702, 0.00366013, 0.00370627],\n",
       "         [0.00372165, 0.00369089, 0.00372165],\n",
       "         [0.00372165, 0.00364475, 0.00367551]],\n",
       "\n",
       "        [[0.00369089, 0.00369089, 0.00369089],\n",
       "         [0.00369089, 0.00366013, 0.00370627],\n",
       "         [0.00369089, 0.00366013, 0.00370627],\n",
       "         ...,\n",
       "         [0.00373702, 0.00367551, 0.00370627],\n",
       "         [0.00372165, 0.00361399, 0.00367551],\n",
       "         [0.00362937, 0.00336794, 0.00350634]],\n",
       "\n",
       "        ...,\n",
       "\n",
       "        [[0.00167628, 0.00112265, 0.00181469],\n",
       "         [0.00295271, 0.00212226, 0.00262976],\n",
       "         [0.00336794, 0.00287582, 0.00313725],\n",
       "         ...,\n",
       "         [0.00370627, 0.00367551, 0.00367551],\n",
       "         [0.00369089, 0.00352172, 0.00361399],\n",
       "         [0.00347559, 0.00309112, 0.00329104]],\n",
       "\n",
       "        [[0.00175317, 0.00079969, 0.00143022],\n",
       "         [0.00226067, 0.00127643, 0.00195309],\n",
       "         [0.00195309, 0.00146098, 0.00198385],\n",
       "         ...,\n",
       "         [0.00373702, 0.00362937, 0.00373702],\n",
       "         [0.00369089, 0.0035371 , 0.00358324],\n",
       "         [0.00367551, 0.00319877, 0.00338331]],\n",
       "\n",
       "        [[0.00261438, 0.00124567, 0.00176855],\n",
       "         [0.00335256, 0.00270665, 0.00293733],\n",
       "         [0.00312188, 0.00233756, 0.00276817],\n",
       "         ...,\n",
       "         [0.00370627, 0.00346021, 0.00349097],\n",
       "         [0.00369089, 0.00358324, 0.00366013],\n",
       "         [0.00370627, 0.00356786, 0.00364475]]],\n",
       "\n",
       "\n",
       "       [[[0.00372165, 0.00370627, 0.00369089],\n",
       "         [0.00372165, 0.00361399, 0.00370627],\n",
       "         [0.00373702, 0.00369089, 0.00372165],\n",
       "         ...,\n",
       "         [0.0035371 , 0.00282968, 0.00309112],\n",
       "         [0.00356786, 0.00304498, 0.00330642],\n",
       "         [0.00342945, 0.00299885, 0.00315263]],\n",
       "\n",
       "        [[0.00370627, 0.00372165, 0.00372165],\n",
       "         [0.00370627, 0.00367551, 0.00369089],\n",
       "         [0.00372165, 0.00370627, 0.00369089],\n",
       "         ...,\n",
       "         [0.00362937, 0.00327566, 0.00342945],\n",
       "         [0.00346021, 0.00279892, 0.00316801],\n",
       "         [0.00347559, 0.00278354, 0.00307574]],\n",
       "\n",
       "        [[0.00370627, 0.00364475, 0.00369089],\n",
       "         [0.00372165, 0.00364475, 0.00369089],\n",
       "         [0.00373702, 0.00370627, 0.00372165],\n",
       "         ...,\n",
       "         [0.00356786, 0.00316801, 0.00335256],\n",
       "         [0.00370627, 0.00356786, 0.00359862],\n",
       "         [0.00367551, 0.00322953, 0.00339869]],\n",
       "\n",
       "        ...,\n",
       "\n",
       "        [[0.00373702, 0.00367551, 0.00372165],\n",
       "         [0.00372165, 0.00367551, 0.00370627],\n",
       "         [0.00369089, 0.00369089, 0.00370627],\n",
       "         ...,\n",
       "         [0.00298347, 0.00193772, 0.00244521],\n",
       "         [0.00287582, 0.0016609 , 0.00212226],\n",
       "         [0.002599  , 0.00178393, 0.00229143]],\n",
       "\n",
       "        [[0.00372165, 0.00370627, 0.00367551],\n",
       "         [0.00372165, 0.00369089, 0.00373702],\n",
       "         [0.0037524 , 0.0037524 , 0.00366013],\n",
       "         ...,\n",
       "         [0.00301423, 0.00170704, 0.00219915],\n",
       "         [0.00324491, 0.00207612, 0.00250673],\n",
       "         [0.00336794, 0.00235294, 0.00286044]],\n",
       "\n",
       "        [[0.00370627, 0.00367551, 0.00373702],\n",
       "         [0.00369089, 0.00359862, 0.00366013],\n",
       "         [0.00361399, 0.00342945, 0.00361399],\n",
       "         ...,\n",
       "         [0.00318339, 0.00207612, 0.00258362],\n",
       "         [0.00316801, 0.00210688, 0.00252211],\n",
       "         [0.00341407, 0.00266052, 0.00299885]]]], dtype=float32)"
      ]
     },
     "execution_count": 57,
     "metadata": {},
     "output_type": "execute_result"
    }
   ],
   "source": [
    "dataset_img_test_array_plana[0:3] ## Vemos las primeras entradas para verificar que estén aplanados los datos"
   ]
  },
  {
   "cell_type": "code",
   "execution_count": 27,
   "id": "80de5070-acc3-462b-bcd7-577b7b6cf065",
   "metadata": {},
   "outputs": [
    {
     "name": "stdout",
     "output_type": "stream",
     "text": [
      "El tamaño del vector de resultados y de las imágenes es el mismo en el conjunto de prueba\n"
     ]
    }
   ],
   "source": [
    "## Revisamos que tengan la misma longitud para el conjunto de prueba\n",
    "leny_test = len(y_test)\n",
    "lenset_test = len(dataset_img_test_array_plana)\n",
    "\n",
    "if leny_test == lenset_test:\n",
    "    print(\"El tamaño del vector de resultados y de las imágenes es el mismo en el conjunto de prueba\")\n",
    "else:\n",
    "    print(\"El tamaño del vector de resultados y las imágenes no coincide en el conjunto de prueba\")"
   ]
  },
  {
   "attachments": {},
   "cell_type": "markdown",
   "id": "30aeaf50-5440-4de5-8f7f-6c732bc56a1b",
   "metadata": {},
   "source": [
    "# Modelo"
   ]
  },
  {
   "attachments": {},
   "cell_type": "markdown",
   "id": "54a2060b-39f0-48f2-85b6-fcf4e4286a03",
   "metadata": {},
   "source": [
    "## Conjunto de entrenamiento y validación"
   ]
  },
  {
   "cell_type": "code",
   "execution_count": 76,
   "id": "fb93db94-200d-44a8-a136-3d2ddd36f9cd",
   "metadata": {},
   "outputs": [],
   "source": [
    "### Creamos conjuntos de validación y entrenamiento\n",
    "X_train, X_val, y_train2, y_val = train_test_split(dataset_img_train_array_plana, y_train_array, test_size=0.33, random_state=42)"
   ]
  },
  {
   "cell_type": "code",
   "execution_count": null,
   "id": "d48b39e1-ba6f-4a40-99e5-fb39b317a623",
   "metadata": {},
   "outputs": [],
   "source": [
    "### Limpieza\n",
    "del dataset_img_train_array_plana"
   ]
  },
  {
   "attachments": {},
   "cell_type": "markdown",
   "id": "11a8718a-419b-479c-b095-a0d11aaedf53",
   "metadata": {},
   "source": [
    "## Arquitectura del modelo"
   ]
  },
  {
   "cell_type": "code",
   "execution_count": 77,
   "id": "11dd590e-3aab-4480-a060-d1ff79c20cf6",
   "metadata": {},
   "outputs": [],
   "source": [
    "### Usamos modelo de la tarea 11\n",
    "from keras.models import Sequential\n",
    "from keras.layers import Conv2D, MaxPooling2D, Dropout, Flatten, Dense\n",
    "\n",
    "model = Sequential()\n",
    "model.add(Conv2D(32, (3, 3), activation='relu',kernel_initializer='he_uniform', padding='same', input_shape=(50, 50, 3)))\n",
    "model.add(Conv2D(32, (3, 3), activation='relu',kernel_initializer='he_uniform', padding='same'))\n",
    "model.add(MaxPooling2D(pool_size=(2, 2)))\n",
    "model.add(Conv2D(64, (3, 3), activation='relu',kernel_initializer='he_uniform', padding='same'))\n",
    "model.add(Conv2D(64, (3, 3), activation='relu',kernel_initializer='he_uniform', padding='same'))\n",
    "model.add(MaxPooling2D(pool_size=(2, 2)))\n",
    "model.add(Conv2D(128, (3, 3), activation='relu',kernel_initializer='he_uniform', padding='same'))\n",
    "#model.add(Conv2D(128, (3, 3), activation='relu', padding='same'))\n",
    "model.add(MaxPooling2D(pool_size=(2, 2)))\n",
    "model.add(Flatten())\n",
    "#model.add(Dense(256, activation='relu'))\n",
    "model.add(Dense(2, activation='softmax'))"
   ]
  },
  {
   "cell_type": "code",
   "execution_count": 78,
   "id": "17b8b290-818a-40f0-86c2-daeb80f21aec",
   "metadata": {},
   "outputs": [],
   "source": [
    "model.compile(Adam(learning_rate=.01),\n",
    "              loss='binary_crossentropy',\n",
    "              metrics=['accuracy'])"
   ]
  },
  {
   "cell_type": "code",
   "execution_count": 79,
   "id": "f658cc7c-32ad-4d91-b13c-f819cff73603",
   "metadata": {},
   "outputs": [
    {
     "name": "stdout",
     "output_type": "stream",
     "text": [
      "Model: \"sequential_2\"\n",
      "_________________________________________________________________\n",
      " Layer (type)                Output Shape              Param #   \n",
      "=================================================================\n",
      " conv2d_10 (Conv2D)          (None, 50, 50, 32)        896       \n",
      "                                                                 \n",
      " conv2d_11 (Conv2D)          (None, 50, 50, 32)        9248      \n",
      "                                                                 \n",
      " max_pooling2d_6 (MaxPooling  (None, 25, 25, 32)       0         \n",
      " 2D)                                                             \n",
      "                                                                 \n",
      " conv2d_12 (Conv2D)          (None, 25, 25, 64)        18496     \n",
      "                                                                 \n",
      " conv2d_13 (Conv2D)          (None, 25, 25, 64)        36928     \n",
      "                                                                 \n",
      " max_pooling2d_7 (MaxPooling  (None, 12, 12, 64)       0         \n",
      " 2D)                                                             \n",
      "                                                                 \n",
      " conv2d_14 (Conv2D)          (None, 12, 12, 128)       73856     \n",
      "                                                                 \n",
      " max_pooling2d_8 (MaxPooling  (None, 6, 6, 128)        0         \n",
      " 2D)                                                             \n",
      "                                                                 \n",
      " flatten_2 (Flatten)         (None, 4608)              0         \n",
      "                                                                 \n",
      " dense_2 (Dense)             (None, 2)                 9218      \n",
      "                                                                 \n",
      "=================================================================\n",
      "Total params: 148,642\n",
      "Trainable params: 148,642\n",
      "Non-trainable params: 0\n",
      "_________________________________________________________________\n"
     ]
    }
   ],
   "source": [
    "model.summary()"
   ]
  },
  {
   "attachments": {},
   "cell_type": "markdown",
   "id": "e45b3a47-b35c-4723-a7b4-e04eb12b98a3",
   "metadata": {},
   "source": [
    "## Entrenamiento del modelo"
   ]
  },
  {
   "cell_type": "code",
   "execution_count": 73,
   "id": "affe7da8",
   "metadata": {},
   "outputs": [
    {
     "data": {
      "text/plain": [
       "147660"
      ]
     },
     "execution_count": 73,
     "metadata": {},
     "output_type": "execute_result"
    }
   ],
   "source": [
    "len(y_train2)"
   ]
  },
  {
   "cell_type": "code",
   "execution_count": 1,
   "id": "d0eba98e-f393-428e-b704-f9eb47cf17e5",
   "metadata": {},
   "outputs": [
    {
     "ename": "NameError",
     "evalue": "name 'model' is not defined",
     "output_type": "error",
     "traceback": [
      "\u001b[1;31m---------------------------------------------------------------------------\u001b[0m",
      "\u001b[1;31mNameError\u001b[0m                                 Traceback (most recent call last)",
      "Cell \u001b[1;32mIn[1], line 2\u001b[0m\n\u001b[0;32m      1\u001b[0m \u001b[39m## Entrenamos el modelo\u001b[39;00m\n\u001b[1;32m----> 2\u001b[0m history \u001b[39m=\u001b[39m model\u001b[39m.\u001b[39mfit(X_train, y_train2, batch_size\u001b[39m=\u001b[39m\u001b[39m256\u001b[39m, epochs\u001b[39m=\u001b[39m\u001b[39m2\u001b[39m, validation_data\u001b[39m=\u001b[39m(X_val, y_val), shuffle\u001b[39m=\u001b[39m\u001b[39mTrue\u001b[39;00m)\n",
      "\u001b[1;31mNameError\u001b[0m: name 'model' is not defined"
     ]
    }
   ],
   "source": [
    "## Entrenamos el modelo\n",
    "history = model.fit(X_train, y_train2, batch_size=256, epochs=2, validation_data=(X_val, y_val), shuffle=True)"
   ]
  },
  {
   "attachments": {},
   "cell_type": "markdown",
   "id": "a2e12d50-edad-4b59-9a63-c103859e5d59",
   "metadata": {},
   "source": [
    "## Gráficas de pérdida y precisión en el entrenamiento"
   ]
  },
  {
   "attachments": {},
   "cell_type": "markdown",
   "id": "9fafcbb1-8298-4f7e-9533-b64088dc4e0c",
   "metadata": {},
   "source": [
    "### Pérdida"
   ]
  },
  {
   "cell_type": "code",
   "execution_count": null,
   "id": "f0063fb5-311f-478f-8ac1-26a29ff4ccf4",
   "metadata": {},
   "outputs": [],
   "source": [
    "for hist, lr in zip(history, learning_rates):\n",
    "    loss = hist.history['loss']\n",
    "    epochs = range(1, len(loss) + 1)\n",
    "    plt.plot(epochs, loss, 'o-', label=lr)\n",
    "plt.title('Training loss')\n",
    "plt.xlabel('Epochs')\n",
    "plt.ylabel('Loss')\n",
    "plt.legend()\n",
    "plt.show()"
   ]
  },
  {
   "attachments": {},
   "cell_type": "markdown",
   "id": "f2f66c28-c9c2-4432-a77c-ddbf795379c5",
   "metadata": {},
   "source": [
    "### Precisión"
   ]
  },
  {
   "cell_type": "code",
   "execution_count": null,
   "id": "d8c0dc57-22bb-4734-993e-31f96cc0f585",
   "metadata": {},
   "outputs": [],
   "source": [
    "for hist, lr in zip(history, learning_rates):\n",
    "    loss = hist.history['accuracy']\n",
    "    epochs = range(1, len(loss) + 1)\n",
    "    plt.semilogy(epochs, loss, 'o-', label=lr)\n",
    "plt.title('Training accuracy')\n",
    "plt.xlabel('Epochs')\n",
    "plt.ylabel('Accuracy')\n",
    "plt.legend()\n",
    "plt.show()"
   ]
  },
  {
   "attachments": {},
   "cell_type": "markdown",
   "id": "51aabf76-f5ec-4569-8afa-2bccfd09ee43",
   "metadata": {},
   "source": [
    "# Predicciones"
   ]
  },
  {
   "cell_type": "code",
   "execution_count": null,
   "id": "7d649a55-bdb9-4e0b-8942-3b572813d0da",
   "metadata": {},
   "outputs": [],
   "source": [
    "pred = model.predict(dataset_img_test)\n",
    "print(classification_report(y_test_array, np.argmax(pred,axis=1)))"
   ]
  }
 ],
 "metadata": {
  "kernelspec": {
   "display_name": "Python 3 (ipykernel)",
   "language": "python",
   "name": "python3"
  },
  "language_info": {
   "codemirror_mode": {
    "name": "ipython",
    "version": 3
   },
   "file_extension": ".py",
   "mimetype": "text/x-python",
   "name": "python",
   "nbconvert_exporter": "python",
   "pygments_lexer": "ipython3",
   "version": "3.11.3"
  }
 },
 "nbformat": 4,
 "nbformat_minor": 5
}
